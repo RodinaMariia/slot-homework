{
 "cells": [
  {
   "cell_type": "code",
   "execution_count": 1,
   "id": "31d24de7",
   "metadata": {},
   "outputs": [],
   "source": [
    "import pandas as pd\n",
    "import re\n",
    "import itertools\n",
    "import numpy as np\n",
    "import pickle\n",
    "import os"
   ]
  },
  {
   "cell_type": "code",
   "execution_count": 2,
   "id": "a91591f2",
   "metadata": {},
   "outputs": [],
   "source": [
    "import requests\n",
    "from nltk.tokenize import word_tokenize\n",
    "from gensim.utils import simple_preprocess\n",
    "from gensim import corpora\n",
    "from nltk.corpus import stopwords\n",
    "from time import time"
   ]
  },
  {
   "cell_type": "code",
   "execution_count": 3,
   "id": "782e432f",
   "metadata": {},
   "outputs": [],
   "source": [
    "from ua_parser import user_agent_parser\n",
    "from gensim.models.fasttext import FastText\n",
    "import collections\n",
    "import math\n",
    "from sklearn import preprocessing\n",
    "import ipinfo\n",
    "import category_encoders as ce"
   ]
  },
  {
   "cell_type": "code",
   "execution_count": 44,
   "id": "619b27ee",
   "metadata": {},
   "outputs": [],
   "source": [
    "from sklearn.ensemble import RandomForestClassifier\n",
    "from sklearn.cluster import Birch, DBSCAN, OPTICS, AgglomerativeClustering, AffinityPropagation\n",
    "from sklearn.cluster import MiniBatchKMeans, SpectralClustering, KMeans, SpectralCoclustering\n",
    "from sklearn.model_selection import train_test_split\n",
    "from collections import Counter\n",
    "import sklearn.metrics as metrics\n",
    "import matplotlib.pyplot as plt"
   ]
  },
  {
   "cell_type": "code",
   "execution_count": null,
   "id": "a15bb81a",
   "metadata": {},
   "outputs": [],
   "source": []
  },
  {
   "cell_type": "code",
   "execution_count": 5,
   "id": "447e970d",
   "metadata": {},
   "outputs": [],
   "source": [
    "#Обработка данных\n",
    "def get_stats():\n",
    "    return requests.get('https://slot-ml.com/api/v1/users/4e5bd33034c6cf34acd47a679ed113f367c21d1c/stats').json()\n",
    "    \n",
    "def get_data():\n",
    "    return requests.get('https://slot-ml.com/api/v1/users/4e5bd33034c6cf34acd47a679ed113f367c21d1c/vectors/?random').json()\n",
    "    \n",
    "def load_and_save_data(n_range):\n",
    "    for i in range(n_range):\n",
    "        data.loc[data.shape[0], :] = get_data()\n",
    "    data.to_csv('data.csv')\n",
    "    \n",
    "def create_empty_data():\n",
    "    return pd.DataFrame({'meta1': pd.Series(dtype='str'),\n",
    "                         'id': pd.Series(dtype='str'),\n",
    "                        'meta2': pd.Series(dtype='str'),\n",
    "                        'vector': pd.Series(dtype='str'),\n",
    "                        'meta3': pd.Series(dtype='int'),\n",
    "                        'meta6': pd.Series(dtype='str'),\n",
    "                        'meta4': pd.Series(dtype='int'),\n",
    "                        'meta5': pd.Series(dtype='str'),\n",
    "                        }\n",
    "                       )    \n",
    "\n",
    "def save_pickle(file, name):\n",
    "    \"\"\"Util for saving pickle-files\"\"\"\n",
    "    with open(os.path.join('data/', name + '.pickle'), 'wb') as f:\n",
    "        pickle.dump(file, f)"
   ]
  },
  {
   "cell_type": "markdown",
   "id": "6c49214a",
   "metadata": {},
   "source": [
    "### День первый: глаза боятся, а руки делают\n",
    "<p>Итак, в задаче сказано: написать классификатор, позволяющий разграничить данные на условно безопасные и потенциально опасные. Поскольку задачи на кибератаки мне раньше не встречались, я решила провести детальный разведывательный анализ поступающей от генератора информации. Гугл и отдельные статьи позволили вывести несколько правил:\n",
    "    <ul>\n",
    "      <li>Прямые обращения к БД и управляющим файлам выглядят подозрительно,</li>\n",
    "      <li>Как и множественные запросы с одного ip.</li>\n",
    "      <li>Распределение meta4 - назовём его весом - имеет тяжёлый правый хвост, очень подозрительно, баним.</li>\n",
    "      <li>User-agent, содержащий подозрительные слова, не связанные с браузерами, контролировать.</li> \n",
    "      <li> С другой стороны: поисковые боты и сканеры уязвимостей имеют очень подозрительное поведение, однако вредоносными не являются. Поэтому, их стоит попробовать исключить из потенциальных опасностей.</li>\n",
    "    </ul>\n",
    "Итогом обнаруженных правил первого и второго дня стал <b>Watchman</b>, класс, позволяющий обнаружить 20-30% вредоносных действий. С его помощью можно было бы построить примитивный классификатор и, активным обучением, попробовать доразметить ещё сколько-то данных для последующего обучения полноценного классификатора.\n",
    "</p>"
   ]
  },
  {
   "cell_type": "code",
   "execution_count": 6,
   "id": "81cfb700",
   "metadata": {},
   "outputs": [],
   "source": [
    "class Watchman():\n",
    "    def __init__(self, data):\n",
    "        self.df = data.copy()\n",
    "        self.white_list = ['arachni', 'nikto', 'openvas', 'acunetix']\n",
    "        self._preprocess()\n",
    "        \n",
    "    def _preprocess(self):        \n",
    "        self.df['meta4'] = self.df['meta4'].astype(int)\n",
    "        self.df['meta3'] = self.df['meta3'].astype(int)        \n",
    "        self.df = self.df.fillna('')\n",
    "        self.df['vector'] = self.df.vector.str.lower()   \n",
    "        self.df['meta5'] = self.df.meta5.str.lower()\n",
    "        for idx, row in self.df.iterrows():\n",
    "            self.df.loc[idx, 'meta2'] = self.df.loc[idx, 'meta2'].replace(self.df.loc[idx, 'meta1']+'.', '' ) \n",
    "        self.df['len_meta2'] = self.df['meta2'].apply(len)\n",
    "        \n",
    "    def white_list(func):\n",
    "        def wrapper(self, *args, **kwargs):\n",
    "            #Дать разрешение внутренним дружелюбным ботам. Arachni, Nikto, OpenVAS \n",
    "            black_list_edt = []           \n",
    "            for one_id in func(self, *args, **kwargs):\n",
    "                res = [1 for one_word in self.white_list if\n",
    "                       self.df.loc[self.df.id==one_id, 'meta5'].str.contains(one_word).any() | \n",
    "                       self.df.loc[self.df.id==one_id, 'vector'].str.contains(one_word).any()]\n",
    "                \n",
    "                if sum(res)==0:\n",
    "                    black_list_edt.append(one_id)\n",
    "            return black_list_edt  \n",
    "        return wrapper\n",
    "    \n",
    "    @white_list\n",
    "    def get_bl_by_request_stops(self):\n",
    "        black_list = []\n",
    "        black_words = ['windows', 'ini', 'net', 'select', 'delete',\n",
    "                       'update', 'password', ' or ']\n",
    "        for one_word in black_words:\n",
    "            l = self.df.loc[self.df.vector.str.contains(one_word), 'id'].to_list()           \n",
    "            black_list.extend(self.df.loc[self.df.vector.str.contains(one_word), 'id'].to_list())\n",
    "        return black_list\n",
    "    \n",
    "    \n",
    "    @white_list\n",
    "    def get_bl_by_data_volume(self, q=0.95):\n",
    "        return self.df.loc[self.df.meta4>=self.df.meta4.quantile(q=q), 'id'].to_list()\n",
    "    \n",
    "    @white_list\n",
    "    def get_bl_by_request_frequency(self, threshold=3):        \n",
    "        black_ip = self.df.meta6.value_counts()[self.df.meta6.value_counts()>threshold].index.to_list()\n",
    "        return self.df.loc[self.df.meta6.isin(black_ip), 'id'].to_list()\n",
    "    \n",
    "    @white_list\n",
    "    def get_bl_by_user_agent_stops(self):\n",
    "        black_list = []\n",
    "        black_words = ['apache-httpclient', 'python', 'winhttprequest']\n",
    "        for one_word in black_words:\n",
    "            black_list.extend(self.df.loc[self.df.meta5.str.contains(one_word), 'id'].to_list())\n",
    "        return black_list  \n",
    "    \n",
    "    @white_list\n",
    "    def get_bl_by_user_agent_frequency(self, threshold=0.05):\n",
    "        white_words = ['arachni', 'openvas', 'mozilla', 'ucweb', 'ucbrowser',\n",
    "                      'firefox', 'chrome', 'safari']\n",
    "        vecs = self.df['meta5'].apply(simple_preprocess)\n",
    "        dictionary = corpora.Dictionary(vecs)\n",
    "        rare_ids = [key for key, value in dictionary.dfs.items() if value<round(self.df.shape[0]*threshold)]\n",
    "        dictionary.filter_tokens(rare_ids)\n",
    "        dictionary.add_documents([white_words])\n",
    "        self.df['meta5_cls'] = [dictionary.doc2bow(one_vec) for one_vec in vecs]        \n",
    "        return self.df.loc[self.df['meta5_cls'].apply(lambda x: len(x)==0), 'id'].to_list()\n",
    "    \n",
    "    \n",
    "    @white_list\n",
    "    def get_bl_by_request_meta_regex(self):\n",
    "        black_list = []\n",
    "        sliced_df = self.df.loc[(self.df.meta1=='REQUEST_HEADERS')&\n",
    "                                (self.df.meta2=='Referer')]        \n",
    "        black_list.extend(sliced_df.loc[sliced_df.vector.str.contains('file'), 'id'].to_list())\n",
    "        \n",
    "        sliced_df = self.df.loc[(self.df.meta1=='REQUEST_HEADERS')&\n",
    "                                (self.df.meta2=='Connection')]        \n",
    "        black_list.extend(sliced_df.loc[~sliced_df.vector.str.contains('close|alive', regex=True), 'id'].to_list()) \n",
    "        \n",
    "        sliced_df = self.df.loc[(self.df.meta1=='REQUEST_HEADERS')&\n",
    "                                (self.df.meta2=='Connection')]        \n",
    "        black_list.extend(sliced_df.loc[~sliced_df.vector.str.contains('close|alive', regex=True), 'id'].to_list())  \n",
    "        \n",
    "        sliced_df = self.df.loc[(self.df.meta1=='REQUEST_HEADERS')&\n",
    "                        (self.df.meta2=='X-Forwarded-For')]        \n",
    "        black_list.extend(sliced_df.loc[sliced_df.vector.str.contains('[^a-z0-9.:]', regex=True), 'id'].to_list())        \n",
    "        return black_list\n",
    "    \n",
    "    @white_list\n",
    "    def get_bl_by_request_meta_frequency(self, q=0.95):\n",
    "        sliced_df = self.df.loc[(self.df.meta1.isin(['REQUEST_POST_ARGS',\n",
    "                                                     'REQUEST_GET_ARGS', 'REQUEST_COOKIES',\n",
    "                                                     'RESPONSE_HEADERS', 'REQUEST_HEADERS']))]         \n",
    "        return sliced_df.loc[sliced_df.len_meta2>=self.df.len_meta2.quantile(q=q), 'id'].to_list()\n",
    "    \n",
    "    @white_list\n",
    "    def get_bl_full_rules(self, q=0.95, threshold_request=3,\n",
    "                         threshold_user_agent=0.05):\n",
    "        black_list = []\n",
    "        black_list.extend(self.get_bl_by_request_stops())\n",
    "        black_list.extend(self.get_bl_by_data_volume(q))\n",
    "        black_list.extend(self.get_bl_by_request_frequency(threshold_request))\n",
    "        black_list.extend(self.get_bl_by_user_agent_stops())\n",
    "        black_list.extend(self.get_bl_by_request_meta_regex())\n",
    "        black_list.extend(self.get_bl_by_request_meta_frequency(q))\n",
    "               \n",
    "        black_ip = self.df.loc[self.df.id.isin(black_list), 'meta6']\n",
    "        black_list.extend(self.df.loc[self.df.meta6.isin(black_ip), 'id'].to_list())\n",
    "        return set(black_list)\n",
    "        \n",
    "    def get_wt_list(self):\n",
    "        white_list_edt = []           \n",
    "        for one_id in self.df.id:\n",
    "            res = [1 for one_word in self.white_list if\n",
    "                   self.df.loc[self.df.id==one_id, 'meta5'].str.contains(one_word).any() | \n",
    "                   self.df.loc[self.df.id==one_id, 'vector'].str.contains(one_word).any()]\n",
    "\n",
    "            if sum(res)>0:\n",
    "                white_list_edt.append(one_id)\n",
    "        return white_list_edt  \n",
    "        \n",
    "    "
   ]
  },
  {
   "cell_type": "code",
   "execution_count": null,
   "id": "a37c1799",
   "metadata": {},
   "outputs": [],
   "source": []
  },
  {
   "cell_type": "markdown",
   "id": "2677c256",
   "metadata": {},
   "source": [
    "### День второй: как съесть слона?\n",
    "\n",
    "Очевидная информация была проанализирована, но куча колонок всё ещё остаётся не у дел, нужно копать глубже. Что такое meta1 и meta2? Какая польза от ip? Что можно получить из ответа сервера, но он, хотя бы числовой, пусть пока полежит нетронутым.\n",
    "<ul>\n",
    "    <li><b>meta5</b>. Первой мыслью было векторизовать его банальным мешком слов, чтобы удалить самые редкие, то есть потенциально подозрительные слова, но эта идея прироста точности не дала. Поэтому воспользовалась парсером user-agent, чтобы разобрать на ключевые слова. В тестах использую только часть фич, при увеличении размера датасета всегда можно включить оставшиеся.</li>\n",
    "    <li><b>meta6</b>. С ip можно сотворить разное: можно бинаризовать внешний/внутренний, можно банально убрать точки/двоеточия и перевести в число, можно ip4 разбить на разряды, остальное объявить выбросами. Мне понравилась идея распарсить сторонней библиотекой ipinfo и использовать часть информации (страна, компания и тд.). Здесь также было бы полезно добавить поиск по базам \"чёрных\" ip, но нет уверенности, что генератор это учитывает.</li>\n",
    "    <li><b>meta1+meta2</b>. Ничего не понятно. Выяснила, что REQUEST_HEADERS идёт в паре с фиксированным перечнем заголовков, добавила в Watchman несколько правил. Здесь можно было бы воспользоваться внешним датасетом, чтобы автоматизировать проверку на корректность содержимого meta2, но это займёт прилично времени, а прирост точности даст небольшой. Далее, теоретически meta1, содержащее в себе \"ARGS\", должно содержать в meta2 относительно логичные названия аргументов, но это не точно. Поэтому я остановилась на общем подходе: meta1 обрабатывается как категориальная переменная, а meta2 как текст.</li> \n",
    "    <li><b>vector</b>. Кроме выделения подозрительных стоп-слов, текст будет использоваться для построения эмбеддингов. Здесь же можно попробовать что-то специфическое, вроде поиска ключевых слов или тематического анализа, но на это понадобится время, поэтому остановлюсь на базовой идее.</li>\n",
    "    <li><b>meta3</b>. Теоретически, можно поискать корреляцию с meta1, meta2 и vector, но, поскольку это число, можно оставить всё как есть и использовать в сыром виде.</li>\n",
    "</ul>  \n",
    "\n",
    "Итак, дополнительный анализ проведён, пора формализовать процесс предобработки данных"
   ]
  },
  {
   "cell_type": "code",
   "execution_count": 7,
   "id": "01f20b99",
   "metadata": {},
   "outputs": [
    {
     "name": "stdout",
     "output_type": "stream",
     "text": [
      "<class 'pandas.core.frame.DataFrame'>\n",
      "RangeIndex: 637 entries, 0 to 636\n",
      "Data columns (total 8 columns):\n",
      " #   Column  Non-Null Count  Dtype \n",
      "---  ------  --------------  ----- \n",
      " 0   meta1   637 non-null    object\n",
      " 1   id      637 non-null    object\n",
      " 2   meta2   496 non-null    object\n",
      " 3   vector  636 non-null    object\n",
      " 4   meta3   637 non-null    object\n",
      " 5   meta6   637 non-null    object\n",
      " 6   meta4   637 non-null    object\n",
      " 7   meta5   631 non-null    object\n",
      "dtypes: object(8)\n",
      "memory usage: 39.9+ KB\n",
      "None\n"
     ]
    }
   ],
   "source": [
    "#Загрузка накопленной информации\n",
    "try:\n",
    "    data = pd.read_csv('data.csv', dtype=object)\n",
    "except Exception as e:\n",
    "    print(e)\n",
    "    create_empty_data()\n",
    "    \n",
    "print(data.info())"
   ]
  },
  {
   "cell_type": "code",
   "execution_count": 8,
   "id": "4d06e105",
   "metadata": {},
   "outputs": [
    {
     "data": {
      "text/html": [
       "<div>\n",
       "<style scoped>\n",
       "    .dataframe tbody tr th:only-of-type {\n",
       "        vertical-align: middle;\n",
       "    }\n",
       "\n",
       "    .dataframe tbody tr th {\n",
       "        vertical-align: top;\n",
       "    }\n",
       "\n",
       "    .dataframe thead th {\n",
       "        text-align: right;\n",
       "    }\n",
       "</style>\n",
       "<table border=\"1\" class=\"dataframe\">\n",
       "  <thead>\n",
       "    <tr style=\"text-align: right;\">\n",
       "      <th></th>\n",
       "      <th>meta1</th>\n",
       "      <th>id</th>\n",
       "      <th>meta2</th>\n",
       "      <th>vector</th>\n",
       "      <th>meta3</th>\n",
       "      <th>meta6</th>\n",
       "      <th>meta4</th>\n",
       "      <th>meta5</th>\n",
       "    </tr>\n",
       "  </thead>\n",
       "  <tbody>\n",
       "    <tr>\n",
       "      <th>count</th>\n",
       "      <td>637</td>\n",
       "      <td>637</td>\n",
       "      <td>496</td>\n",
       "      <td>636</td>\n",
       "      <td>637</td>\n",
       "      <td>637</td>\n",
       "      <td>637</td>\n",
       "      <td>631</td>\n",
       "    </tr>\n",
       "    <tr>\n",
       "      <th>unique</th>\n",
       "      <td>20</td>\n",
       "      <td>613</td>\n",
       "      <td>166</td>\n",
       "      <td>610</td>\n",
       "      <td>14</td>\n",
       "      <td>396</td>\n",
       "      <td>455</td>\n",
       "      <td>267</td>\n",
       "    </tr>\n",
       "    <tr>\n",
       "      <th>top</th>\n",
       "      <td>REQUEST_ARGS</td>\n",
       "      <td>cc40f73ea39191240af053f7b28ed7b9</td>\n",
       "      <td>pwd</td>\n",
       "      <td>file:///../../..//etc/passwd</td>\n",
       "      <td>200</td>\n",
       "      <td>217.175.140.69</td>\n",
       "      <td>972</td>\n",
       "      <td>Mozilla/5.0 (Windows NT 6.3; WOW64; Trident/7....</td>\n",
       "    </tr>\n",
       "    <tr>\n",
       "      <th>freq</th>\n",
       "      <td>156</td>\n",
       "      <td>2</td>\n",
       "      <td>38</td>\n",
       "      <td>2</td>\n",
       "      <td>354</td>\n",
       "      <td>51</td>\n",
       "      <td>7</td>\n",
       "      <td>32</td>\n",
       "    </tr>\n",
       "  </tbody>\n",
       "</table>\n",
       "</div>"
      ],
      "text/plain": [
       "               meta1                                id meta2  \\\n",
       "count            637                               637   496   \n",
       "unique            20                               613   166   \n",
       "top     REQUEST_ARGS  cc40f73ea39191240af053f7b28ed7b9   pwd   \n",
       "freq             156                                 2    38   \n",
       "\n",
       "                              vector meta3           meta6 meta4  \\\n",
       "count                            636   637             637   637   \n",
       "unique                           610    14             396   455   \n",
       "top     file:///../../..//etc/passwd   200  217.175.140.69   972   \n",
       "freq                               2   354              51     7   \n",
       "\n",
       "                                                    meta5  \n",
       "count                                                 631  \n",
       "unique                                                267  \n",
       "top     Mozilla/5.0 (Windows NT 6.3; WOW64; Trident/7....  \n",
       "freq                                                   32  "
      ]
     },
     "execution_count": 8,
     "metadata": {},
     "output_type": "execute_result"
    }
   ],
   "source": [
    "data.describe()"
   ]
  },
  {
   "cell_type": "code",
   "execution_count": 9,
   "id": "533e8238",
   "metadata": {},
   "outputs": [
    {
     "name": "stdout",
     "output_type": "stream",
     "text": [
      "256\n",
      "31\n"
     ]
    }
   ],
   "source": [
    "#Ч Разметка на старых данных\n",
    "wch = Watchman(data) \n",
    "black_list = wch.get_bl_full_rules()\n",
    "white_list = wch.get_wt_list()\n",
    "print(len(black_list))\n",
    "print(len(white_list))"
   ]
  },
  {
   "cell_type": "code",
   "execution_count": null,
   "id": "45abc599",
   "metadata": {},
   "outputs": [],
   "source": []
  },
  {
   "cell_type": "code",
   "execution_count": null,
   "id": "e134c01e",
   "metadata": {},
   "outputs": [],
   "source": [
    "#Получение новых данных. Проверка на корректность не проводится.\n",
    "data_upd = create_empty_data()"
   ]
  },
  {
   "cell_type": "code",
   "execution_count": null,
   "id": "9ecfc69d",
   "metadata": {},
   "outputs": [],
   "source": [
    "for i in range(100):\n",
    "    tmp = get_data()    \n",
    "    data_upd = data_upd.append(pd.Series(tmp), ignore_index=True)"
   ]
  },
  {
   "cell_type": "code",
   "execution_count": null,
   "id": "efd8fd80",
   "metadata": {},
   "outputs": [],
   "source": [
    "data_upd.head(10)"
   ]
  },
  {
   "cell_type": "code",
   "execution_count": null,
   "id": "db254da3",
   "metadata": {},
   "outputs": [],
   "source": [
    "#Объединение и сохранение старых и новых данных\n",
    "all_data = pd.concat([data, data_upd])\n",
    "all_data.to_csv('data.csv', index=False)"
   ]
  },
  {
   "cell_type": "markdown",
   "id": "c144c168",
   "metadata": {},
   "source": [
    "### День третий: цифры\n",
    "\n",
    "Время преобразовать накопленную информацию в численный формат и скормить простой модели. Идею посчитать отдельно статистику числовых/нечисловых значений я почерпнула в соревновании на датасете CSIC 2010. Переменные, содержащие небольшое число категорий, кодируются энкодером, не привязанным к целевой переменной. На больших текстовых переменных считается статистика и строятся эмбеддинги. Все рассчитываемые вектора берутся небольшого размера, поскольку тестировалось на небольшом числе данных, при увеличении объема можно удлинить и соответствующие вектора.\n",
    "\n",
    "Итогом последних полутора дней подготовки стал класс <b>Preprocessor</b>, позволяющий перевести в цифру как сразу все данные, так и работать с тренировочным/тестовыми наборами раздельно. Следующим шагом необходимо построить прототип модели."
   ]
  },
  {
   "cell_type": "code",
   "execution_count": 19,
   "id": "43212812",
   "metadata": {},
   "outputs": [],
   "source": [
    "def calculate_letters(input_str: str):\n",
    "    return sum(c.isalpha() for c in input_str)\n",
    "\n",
    "def calculate_digits(input_str: str):\n",
    "    return sum(c.isdigit() for c in input_str)\n",
    "    \n",
    "def calculate_non_letters(input_str: str):\n",
    "    return sum( (not c.isalpha()) for c in input_str)\n",
    "\n",
    "def calculate_entropy(input_str: str):\n",
    "    return (-1) * sum(\n",
    "            i / len(input_str) * math.log2(i / len(input_str))\n",
    "            for i in collections.Counter(input_str).values())\n",
    "\n",
    "class Preprocessor():\n",
    "    def __init__(self):\n",
    "        self.ip_cols = ['hostname', 'country', 'latitude', 'longitude', 'org']  # Колонки парсера ip адресов\n",
    "        self.stat_cols = ['vector', 'hostname', 'meta2']  # Текстовые колонки\n",
    "        self.cat_cols = ['meta1', 'device', 'os', 'user_agent'] + self.ip_cols  # Категориальные переменные\n",
    "        self.cat_cols.remove('hostname')\n",
    "        self.stat_funcs = {'letters': calculate_letters, 'digits': calculate_digits,\n",
    "                           'non_letters': calculate_non_letters, 'entropy': calculate_entropy,\n",
    "                          }\n",
    "        self.encoders = None\n",
    "        self.vectorizers = None\n",
    "    \n",
    "    def fit_transform(self, data):\n",
    "        df = self._basic_transform(data)\n",
    "        self._fit_all_transformers(df)\n",
    "        return self._transformers_transform(df)\n",
    "\n",
    "    def transform(self, data):\n",
    "        df = self._basic_transform(data)\n",
    "        return self._transformers_transform(df)\n",
    "\n",
    "    def _basic_transform(self, data):\n",
    "        df = data.copy()\n",
    "        df = df.fillna('')\n",
    "        df['vector'] = df.vector.str.lower()\n",
    "        df['meta5'] = df.meta5.str.lower()\n",
    "        df['meta4'] = df['meta4'].astype(int)\n",
    "        df['meta3'] = df['meta3'].astype(int)\n",
    "        df['len_vec'] = df['vector'].apply(len)\n",
    "\n",
    "        for one_col in ['device', 'os', 'user_agent', 'hostname',\n",
    "                        'country', 'latitude', 'longitude', 'org']:\n",
    "            df[one_col] = ''  # Создание чистых колонок для острочного заполнения дальше\n",
    "        for one_pair in itertools.product(self.stat_cols, list(self.stat_funcs.keys())):\n",
    "            df['{}_{}'.format(*one_pair)] = 0\n",
    "\n",
    "        parsed_meta5_vec = []\n",
    "        for idx, row in df.iterrows():\n",
    "            # Разбор User-agent\n",
    "            parsed_meta5 = user_agent_parser.Parse(df.loc[idx, 'meta5'])\n",
    "            df.loc[idx, 'device'] = parsed_meta5.get('device').get('family')\n",
    "            df.loc[idx, 'os'] = parsed_meta5.get('os').get('family')\n",
    "            df.loc[idx, 'user_agent'] = parsed_meta5.get('user_agent').get('family')\n",
    "            vec = list(itertools.chain(list(parsed_meta5.get('device').values()),\n",
    "                                       list(parsed_meta5.get('os').values()),\n",
    "                                       list(parsed_meta5.get('user_agent').values()),\n",
    "                                       ))\n",
    "            parsed_meta5_vec.append(vec)\n",
    "\n",
    "            # Парсер ip. Локальные и несуществующие адреса записываются в отдельную категорию.\n",
    "            try:\n",
    "                details = handler.getDetails(df.loc[idx, 'meta6']).all\n",
    "                for col in self.ip_cols:\n",
    "                    df.loc[idx, col] = details.get(col) if details.get(col) else 'Empty'\n",
    "            except:\n",
    "                for col in self.ip_cols:\n",
    "                    df.loc[idx, col] = 'Error'\n",
    "\n",
    "            # Создание расчёт статистики на текстовых колонках\n",
    "            for one_pair in itertools.product(self.stat_cols, self.stat_funcs.items()):\n",
    "                df.loc[idx, '{}_{}'.format(one_pair[0], one_pair[1][0])] = one_pair[1][1](df.loc[idx, one_pair[0]])\n",
    "\n",
    "        df['len_meta2'] = df['meta2'].apply(len)\n",
    "        # df['meta5_parsed'] = parsed_meta5_vec #Колонка токенов для построения эмбеддингов наl User-agent\n",
    "        return df\n",
    "\n",
    "    def _fit_all_transformers(self, data):\n",
    "        self.vectorizers = {one_col: self._create_tf_model(data, one_col) for one_col in self.stat_cols}\n",
    "        self.encoders = ce.HashingEncoder(cols=self.cat_cols, n_components=8)\n",
    "        self.encoders.fit(data)\n",
    "\n",
    "    def _transformers_transform(self, data):\n",
    "        data = self.encoders.transform(data)\n",
    "        for key, value in self.vectorizers.items():\n",
    "            vec = data.loc[:, key].apply(lambda x: self._get_sequence_vec(value, x))\n",
    "            data.loc[:, list(zip([key] * len(vec.iloc[0]), range(len(vec.iloc[0]))))] = vec.to_list()\n",
    "        return data\n",
    "\n",
    "    def _create_tf_model(self, data, target_column, vector_size=3):\n",
    "        target_data = list(map(simple_preprocess, data[target_column].apply(lambda x: str(x).replace('_', ' '))))\n",
    "        model = FastText(vector_size=vector_size)\n",
    "        model.build_vocab(corpus_iterable=target_data, min_count=1)\n",
    "        model.train(\n",
    "            corpus_iterable=target_data,\n",
    "            epochs=model.epochs,\n",
    "            total_examples=model.corpus_count,\n",
    "            total_words=model.corpus_total_words\n",
    "        )\n",
    "        return model\n",
    "\n",
    "    def _get_sequence_vec(self, model, text):\n",
    "        target_data = simple_preprocess(str(text).replace('_', ' '))\n",
    "        vec = []\n",
    "        for one_word in target_data:\n",
    "            one_word = 'None' if one_word is None else one_word\n",
    "            vec.append(model.wv[one_word])\n",
    "        return np.mean(np.array(vec), axis=0) if vec else [0, 0, 0]"
   ]
  },
  {
   "cell_type": "code",
   "execution_count": null,
   "id": "405b1030",
   "metadata": {},
   "outputs": [],
   "source": []
  },
  {
   "cell_type": "markdown",
   "id": "1a2a0c02",
   "metadata": {},
   "source": [
    "### Дни четвёртый и пятый: отрицание - торг -  принятие.\n",
    "\n",
    "Описание задания содержит указание: написать классификатор, позволяющий разграничить данные на условно безопасные и потенциально опасные. Отлично, часть меток у меня есть из аналитических правил, можно построить, например, неглубокий случайный лес, и принять за истину самые уверенные его предсказания, после чего повторить схему несколько раз. Но, чтобы быть спокойной, мне нужно просмотреть глазами несколько случайных примеров новой разметки и убедиться, что она хоть в какой-то мере даёт правильный результат. Однако, на этом этапе я уже не могу визуально определить, чем отличаются записи, которые модель помечает как однозначно опасные, от безопасных. Тупик.\n",
    "\n",
    "Чтобы не застрять на этом этапе надолго, заглядываю в подсказки: программировать питоном, обучать машинным обучением, кластеризовать кластеризатором... Стоп. В задании сказано: написать классификатор, что требует как минимум разметки, а подсказка предлагает просто разбить данные на неопределённое число кластеров? И это уже даст приемлемый результат? Начинаю с простого Birch, натренированного на собранных ранее данных - 35+% точности. Оцениваю различные алгоритмы по их способности разделять ранее аналитически полученные белые и чёрные списки, подбираю оптимальное число кластеров по паре метрик - 66% точности. Дальше можно попробовать улучшить результат, используя более длинные вектора, построенные на текстовых данных, и подбирая оптимальные параметры самой модели. Предварительная нормализация данных, как и попытка очистить от шума, у меня особо не сработала. Это мне кажется логичным, поскольку условия задачи предполагают, что шум может оказаться не случайным сбоем датчика или птицей, прикрывшей камеру, а целенаправленной попыткой поиска уязвимости системы нетипичным поведением.\n",
    "\n",
    "Следующим этапом, получив разбиение на кластеры, можно обучить на этой информации классификатор, что позволит относить новые записи к уже существующим кластерам или дообучать, при наличии разметки. Кластерную разметку на новых данных можно получить либо используя алгоритмы, уже имеющие реализацию раздельного fit - predict/approximate_predict. Либо написать подобную реализацию самостоятельно. "
   ]
  },
  {
   "cell_type": "markdown",
   "id": "85494075",
   "metadata": {},
   "source": [
    "____________________\n",
    "### Кластеризация"
   ]
  },
  {
   "cell_type": "code",
   "execution_count": 20,
   "id": "843f9310",
   "metadata": {},
   "outputs": [],
   "source": [
    "access_token = '0000000'\n",
    "handler = ipinfo.getHandler(access_token)\n",
    "prepr = Preprocessor()\n",
    "df = prepr.fit_transform(data)\n",
    "df.to_csv('prepared_data.csv', index=False)"
   ]
  },
  {
   "cell_type": "code",
   "execution_count": 21,
   "id": "f0ad8744",
   "metadata": {},
   "outputs": [],
   "source": [
    "save_pickle(prepr, 'preprocessor')"
   ]
  },
  {
   "cell_type": "code",
   "execution_count": 22,
   "id": "36004c98",
   "metadata": {},
   "outputs": [],
   "source": [
    "df_num = df.set_index('id').select_dtypes(include=[np.number])"
   ]
  },
  {
   "cell_type": "code",
   "execution_count": 23,
   "id": "cb8fcaa0",
   "metadata": {},
   "outputs": [
    {
     "name": "stdout",
     "output_type": "stream",
     "text": [
      "10\n",
      "15\n",
      "20\n"
     ]
    },
    {
     "name": "stderr",
     "output_type": "stream",
     "text": [
      "C:\\Users\\Romansu\\anaconda3\\lib\\site-packages\\sklearn\\manifold\\_spectral_embedding.py:245: UserWarning: Graph is not fully connected, spectral embedding may not work as expected.\n",
      "  warnings.warn(\"Graph is not fully connected, spectral embedding\"\n",
      "C:\\Users\\Romansu\\anaconda3\\lib\\site-packages\\sklearn\\manifold\\_spectral_embedding.py:245: UserWarning: Graph is not fully connected, spectral embedding may not work as expected.\n",
      "  warnings.warn(\"Graph is not fully connected, spectral embedding\"\n",
      "C:\\Users\\Romansu\\anaconda3\\lib\\site-packages\\sklearn\\manifold\\_spectral_embedding.py:245: UserWarning: Graph is not fully connected, spectral embedding may not work as expected.\n",
      "  warnings.warn(\"Graph is not fully connected, spectral embedding\"\n"
     ]
    },
    {
     "name": "stdout",
     "output_type": "stream",
     "text": [
      "25\n"
     ]
    },
    {
     "name": "stderr",
     "output_type": "stream",
     "text": [
      "C:\\Users\\Romansu\\anaconda3\\lib\\site-packages\\sklearn\\manifold\\_spectral_embedding.py:245: UserWarning: Graph is not fully connected, spectral embedding may not work as expected.\n",
      "  warnings.warn(\"Graph is not fully connected, spectral embedding\"\n"
     ]
    },
    {
     "data": {
      "image/png": "[encoded data removed]",
      "text/plain": [
       "<Figure size 432x288 with 1 Axes>"
      ]
     },
     "metadata": {
      "needs_background": "light"
     },
     "output_type": "display_data"
    },
    {
     "data": {
      "image/png": "[encoded data removed]",
      "text/plain": [
       "<Figure size 432x288 with 1 Axes>"
      ]
     },
     "metadata": {
      "needs_background": "light"
     },
     "output_type": "display_data"
    }
   ],
   "source": [
    "# Оценка оптимального количества кластеров\n",
    "MIN_I=10\n",
    "MAX_I=30\n",
    "N_STEP = 5\n",
    "def count_metrics(data, i):    \n",
    "    print(i)\n",
    "    try:\n",
    "        brc3 = SpectralClustering(i, n_init=5, assign_labels='discretize')\n",
    "        preds3 = brc3.fit_predict(data)\n",
    "        return [metrics.calinski_harabasz_score(data, preds3), metrics.davies_bouldin_score(data, preds3)]\n",
    "    except:\n",
    "        return[-1,-1]\n",
    "\n",
    "\n",
    "counted = np.array([count_metrics(df_num, i) for i in range(MIN_I, MAX_I, N_STEP)])\n",
    "plt.plot(range(MIN_I,MAX_I, N_STEP), counted[:,0])\n",
    "plt.title('calinski, inc')\n",
    "plt.show()\n",
    "plt.plot(range(MIN_I,MAX_I, N_STEP), counted[:,1])      \n",
    "plt.title('davies, dec')\n",
    "plt.show()"
   ]
  },
  {
   "cell_type": "code",
   "execution_count": 27,
   "id": "252bc838",
   "metadata": {},
   "outputs": [],
   "source": [
    "brc = SpectralClustering(35, n_init=5,\n",
    "                         assign_labels='discretize',\n",
    "                         affinity='nearest_neighbors',\n",
    "                         random_state=0)\n",
    "\n",
    "preds = brc.fit_predict(df_num)"
   ]
  },
  {
   "cell_type": "code",
   "execution_count": 35,
   "id": "608e7a95",
   "metadata": {},
   "outputs": [],
   "source": [
    "res_cls = pd.DataFrame(preds, columns=['target'], index=df_num.index) "
   ]
  },
  {
   "cell_type": "code",
   "execution_count": 36,
   "id": "086b82e8",
   "metadata": {},
   "outputs": [
    {
     "data": {
      "text/plain": [
       "2     25\n",
       "27    19\n",
       "12    16\n",
       "4     15\n",
       "26    14\n",
       "5     13\n",
       "1     12\n",
       "29    12\n",
       "31    11\n",
       "8     11\n",
       "28    10\n",
       "18    10\n",
       "15    10\n",
       "20     9\n",
       "16     9\n",
       "0      8\n",
       "17     8\n",
       "34     8\n",
       "22     7\n",
       "32     7\n",
       "24     5\n",
       "11     5\n",
       "10     5\n",
       "3      4\n",
       "14     3\n",
       "7      3\n",
       "19     2\n",
       "6      2\n",
       "30     2\n",
       "33     2\n",
       "13     1\n",
       "21     1\n",
       "Name: target, dtype: int64"
      ]
     },
     "execution_count": 36,
     "metadata": {},
     "output_type": "execute_result"
    }
   ],
   "source": [
    "res_cls.loc[res_cls.index.isin(black_list), 'target'].value_counts()"
   ]
  },
  {
   "cell_type": "code",
   "execution_count": 37,
   "id": "175d447c",
   "metadata": {},
   "outputs": [
    {
     "data": {
      "text/plain": [
       "32    6\n",
       "16    6\n",
       "25    6\n",
       "22    5\n",
       "30    3\n",
       "6     2\n",
       "27    2\n",
       "29    1\n",
       "Name: target, dtype: int64"
      ]
     },
     "execution_count": 37,
     "metadata": {},
     "output_type": "execute_result"
    }
   ],
   "source": [
    "res_cls.loc[res_cls.index.isin(white_list), 'target'].value_counts()"
   ]
  },
  {
   "cell_type": "code",
   "execution_count": null,
   "id": "0aa08e36",
   "metadata": {},
   "outputs": [],
   "source": [
    "#Кластеризация на новых данных\n",
    "res_upd = res_cls.copy().loc[res_cls.index.isin(data_upd.id)]"
   ]
  },
  {
   "cell_type": "code",
   "execution_count": null,
   "id": "d4a0be29",
   "metadata": {},
   "outputs": [],
   "source": [
    "res_upd.loc[:, 0].value_counts()"
   ]
  },
  {
   "cell_type": "code",
   "execution_count": null,
   "id": "004c0e47",
   "metadata": {},
   "outputs": [],
   "source": [
    "#Загрузка информации на сервер\n",
    "for idx, row in res_upd.iterrows():\n",
    "    result = requests.post('https://slot-ml.com/api/v1/users/4e5bd33034c6cf34acd47a679ed113f367c21d1c/results/',\n",
    "                       data={ \"vector\": idx, \"class\": row.loc[0] })        \n",
    "    print(result.json())"
   ]
  },
  {
   "cell_type": "code",
   "execution_count": null,
   "id": "b16f24d8",
   "metadata": {},
   "outputs": [],
   "source": []
  },
  {
   "cell_type": "markdown",
   "id": "74a79576",
   "metadata": {},
   "source": [
    "### День шестой: streamlit\n",
    "\n",
    "\n",
    "Оставшееся время имеет смысл потратить на оформление рабочего приложения. Интерфейс, для скорости, будет построен с использованием streamlit. Сам код требует дальнейшей оптимизации и шлифовки. "
   ]
  },
  {
   "cell_type": "markdown",
   "id": "eb16934b",
   "metadata": {},
   "source": [
    "____________________"
   ]
  },
  {
   "cell_type": "markdown",
   "id": "e21c49ce",
   "metadata": {},
   "source": [
    "### Классификатор"
   ]
  },
  {
   "cell_type": "code",
   "execution_count": null,
   "id": "54e536aa",
   "metadata": {},
   "outputs": [],
   "source": [
    "# Блок для активного обучения\n",
    "\n",
    "# df['target'] = df['id'].apply(lambda x: 1 if x in black_list else 0 if x in white_list else-1)\n",
    "# X_train, y_train = df.loc[df.target>-1, :].drop(columns=['target']), df.loc[df.target>-1, :].loc[:, 'target']\n",
    "# X_test = df.loc[df.target==-1, :].drop(columns=['target'])"
   ]
  },
  {
   "cell_type": "code",
   "execution_count": 58,
   "id": "6dbc6884",
   "metadata": {},
   "outputs": [],
   "source": [
    "df_cls = data.copy()\n",
    "prepr = Preprocessor()"
   ]
  },
  {
   "cell_type": "code",
   "execution_count": 60,
   "id": "b8571165",
   "metadata": {},
   "outputs": [],
   "source": [
    "X_train, X_test, y_train, y_test= train_test_split(df_cls.sort_values('id'), res_cls['target'].sort_index())\n",
    "\n",
    "X_train = prepr.fit_transform(X_train)\n",
    "X_test = prepr.transform(X_test)"
   ]
  },
  {
   "cell_type": "code",
   "execution_count": 72,
   "id": "b447e04d",
   "metadata": {},
   "outputs": [],
   "source": [
    "clf = RandomForestClassifier(max_depth=3, n_estimators=10, random_state=0)\n",
    "clf.fit(X_train.set_index('id').select_dtypes(include=[np.number]), y_train)\n",
    "\n",
    "preds = clf.predict_proba(X_test.set_index('id').select_dtypes(include=[np.number]))\n",
    "res = pd.DataFrame(preds, index=X_test.id)"
   ]
  },
  {
   "cell_type": "code",
   "execution_count": 73,
   "id": "9bd9e519",
   "metadata": {},
   "outputs": [
    {
     "data": {
      "text/plain": [
       "id\n",
       "083b79f2c0118555d1ea4d34195c5edf    0.166122\n",
       "d38dc98b5d0d06600a67877e5f3c5c93    0.087626\n",
       "4433e37018de53fb462b84d8b492c425    0.083753\n",
       "4ced43777d99a84e37091c48f4980890    0.140889\n",
       "860a0db4970eedf4b35b7ccf4ada077d    0.165257\n",
       "                                      ...   \n",
       "4929cc72a38f645994ef374c028a21bb    0.081244\n",
       "9114dc20b0c3b391cc3353393b08ff31    0.087626\n",
       "359f0268bb90a396619f1ec15c401b8d    0.167681\n",
       "b17ea7f67785d036e7c68c04f7c442fe    0.127206\n",
       "7a9b1823ed970263cf6d01a1f800373f    0.384707\n",
       "Length: 160, dtype: float64"
      ]
     },
     "execution_count": 73,
     "metadata": {},
     "output_type": "execute_result"
    }
   ],
   "source": [
    "res.max(axis=1)"
   ]
  },
  {
   "cell_type": "code",
   "execution_count": 74,
   "id": "c62f614e",
   "metadata": {},
   "outputs": [
    {
     "data": {
      "text/plain": [
       "id\n",
       "083b79f2c0118555d1ea4d34195c5edf    18\n",
       "d38dc98b5d0d06600a67877e5f3c5c93    31\n",
       "4433e37018de53fb462b84d8b492c425    31\n",
       "4ced43777d99a84e37091c48f4980890    29\n",
       "860a0db4970eedf4b35b7ccf4ada077d    29\n",
       "                                    ..\n",
       "4929cc72a38f645994ef374c028a21bb    31\n",
       "9114dc20b0c3b391cc3353393b08ff31    31\n",
       "359f0268bb90a396619f1ec15c401b8d    29\n",
       "b17ea7f67785d036e7c68c04f7c442fe    32\n",
       "7a9b1823ed970263cf6d01a1f800373f     2\n",
       "Length: 160, dtype: int64"
      ]
     },
     "execution_count": 74,
     "metadata": {},
     "output_type": "execute_result"
    }
   ],
   "source": [
    "res.idxmax(axis=1)"
   ]
  },
  {
   "cell_type": "markdown",
   "id": "20c1c9be",
   "metadata": {},
   "source": [
    "______________________________________\n",
    "### Выгрузки"
   ]
  },
  {
   "cell_type": "code",
   "execution_count": null,
   "id": "db0af628",
   "metadata": {},
   "outputs": [],
   "source": [
    "send_classes_and_print_stats(black_list, 1)"
   ]
  },
  {
   "cell_type": "code",
   "execution_count": null,
   "id": "0a1d1216",
   "metadata": {},
   "outputs": [],
   "source": [
    "get_stats()"
   ]
  },
  {
   "cell_type": "code",
   "execution_count": null,
   "id": "0772c3f6",
   "metadata": {},
   "outputs": [],
   "source": []
  },
  {
   "cell_type": "code",
   "execution_count": null,
   "id": "97891fc1",
   "metadata": {},
   "outputs": [],
   "source": [
    "data_upd_test = prepr.transform(data_upd)"
   ]
  },
  {
   "cell_type": "code",
   "execution_count": null,
   "id": "2eae803f",
   "metadata": {},
   "outputs": [],
   "source": [
    "preds = clf.predict_proba(data_upd_test.set_index('id').select_dtypes(include=[np.number]))\n",
    "res = pd.DataFrame(preds, columns=[0,1], index=data_upd_test.id)"
   ]
  },
  {
   "cell_type": "code",
   "execution_count": null,
   "id": "528abc03",
   "metadata": {},
   "outputs": [],
   "source": [
    "send_classes_and_print_stats(res[res[1]>0.8].index.tolist(), 1)"
   ]
  },
  {
   "cell_type": "code",
   "execution_count": null,
   "id": "9bdf2d23",
   "metadata": {},
   "outputs": [],
   "source": [
    "get_stats()"
   ]
  },
  {
   "cell_type": "markdown",
   "id": "b37eec72",
   "metadata": {},
   "source": [
    "______________________________"
   ]
  }
 ],
 "metadata": {
  "kernelspec": {
   "display_name": "Python 3",
   "language": "python",
   "name": "python3"
  },
  "language_info": {
   "codemirror_mode": {
    "name": "ipython",
    "version": 3
   },
   "file_extension": ".py",
   "mimetype": "text/x-python",
   "name": "python",
   "nbconvert_exporter": "python",
   "pygments_lexer": "ipython3",
   "version": "3.8.8"
  }
 },
 "nbformat": 4,
 "nbformat_minor": 5
}
